{
 "cells": [
  {
   "cell_type": "code",
   "execution_count": 45,
   "metadata": {
    "id": "iKu8aMpMPaQz"
   },
   "outputs": [],
   "source": [
    "import numpy as np\n",
    "import pandas as pd\n",
    "import matplotlib.pyplot as plt\n",
    "from sklearn.linear_model import Lasso\n",
    "from sklearn.model_selection import train_test_split\n",
    "from sklearn.metrics import mean_squared_error, r2_score"
   ]
  },
  {
   "cell_type": "markdown",
   "metadata": {
    "id": "IMZtw23uZ7X7"
   },
   "source": [
    "# **Задание 1**"
   ]
  },
  {
   "cell_type": "code",
   "execution_count": 46,
   "metadata": {
    "colab": {
     "base_uri": "https://localhost:8080/",
     "height": 833
    },
    "id": "_FCA47yFmmOJ",
    "outputId": "1fcab2ac-4200-47c5-f35d-75da7fc353b2"
   },
   "outputs": [
    {
     "data": {
      "text/html": [
       "<div>\n",
       "<style scoped>\n",
       "    .dataframe tbody tr th:only-of-type {\n",
       "        vertical-align: middle;\n",
       "    }\n",
       "\n",
       "    .dataframe tbody tr th {\n",
       "        vertical-align: top;\n",
       "    }\n",
       "\n",
       "    .dataframe thead th {\n",
       "        text-align: right;\n",
       "    }\n",
       "</style>\n",
       "<table border=\"1\" class=\"dataframe\">\n",
       "  <thead>\n",
       "    <tr style=\"text-align: right;\">\n",
       "      <th></th>\n",
       "      <th>X1</th>\n",
       "      <th>X2</th>\n",
       "      <th>y</th>\n",
       "    </tr>\n",
       "  </thead>\n",
       "  <tbody>\n",
       "    <tr>\n",
       "      <th>0</th>\n",
       "      <td>3.745401</td>\n",
       "      <td>3.925880</td>\n",
       "      <td>24.826430</td>\n",
       "    </tr>\n",
       "    <tr>\n",
       "      <th>1</th>\n",
       "      <td>9.507143</td>\n",
       "      <td>0.998369</td>\n",
       "      <td>35.689535</td>\n",
       "    </tr>\n",
       "    <tr>\n",
       "      <th>2</th>\n",
       "      <td>7.319939</td>\n",
       "      <td>2.571172</td>\n",
       "      <td>31.986514</td>\n",
       "    </tr>\n",
       "    <tr>\n",
       "      <th>3</th>\n",
       "      <td>5.986585</td>\n",
       "      <td>2.962073</td>\n",
       "      <td>28.582797</td>\n",
       "    </tr>\n",
       "    <tr>\n",
       "      <th>4</th>\n",
       "      <td>1.560186</td>\n",
       "      <td>0.232252</td>\n",
       "      <td>8.666541</td>\n",
       "    </tr>\n",
       "    <tr>\n",
       "      <th>5</th>\n",
       "      <td>1.559945</td>\n",
       "      <td>3.037724</td>\n",
       "      <td>15.035440</td>\n",
       "    </tr>\n",
       "    <tr>\n",
       "      <th>6</th>\n",
       "      <td>0.580836</td>\n",
       "      <td>0.852621</td>\n",
       "      <td>7.987111</td>\n",
       "    </tr>\n",
       "    <tr>\n",
       "      <th>7</th>\n",
       "      <td>8.661761</td>\n",
       "      <td>0.325258</td>\n",
       "      <td>32.692923</td>\n",
       "    </tr>\n",
       "    <tr>\n",
       "      <th>8</th>\n",
       "      <td>6.011150</td>\n",
       "      <td>4.744428</td>\n",
       "      <td>32.865924</td>\n",
       "    </tr>\n",
       "    <tr>\n",
       "      <th>9</th>\n",
       "      <td>7.080726</td>\n",
       "      <td>4.828160</td>\n",
       "      <td>34.135458</td>\n",
       "    </tr>\n",
       "    <tr>\n",
       "      <th>10</th>\n",
       "      <td>0.205845</td>\n",
       "      <td>4.041987</td>\n",
       "      <td>14.025592</td>\n",
       "    </tr>\n",
       "    <tr>\n",
       "      <th>11</th>\n",
       "      <td>9.699099</td>\n",
       "      <td>1.523069</td>\n",
       "      <td>36.758351</td>\n",
       "    </tr>\n",
       "    <tr>\n",
       "      <th>12</th>\n",
       "      <td>8.324426</td>\n",
       "      <td>0.488361</td>\n",
       "      <td>30.273078</td>\n",
       "    </tr>\n",
       "    <tr>\n",
       "      <th>13</th>\n",
       "      <td>2.123391</td>\n",
       "      <td>3.421165</td>\n",
       "      <td>18.824180</td>\n",
       "    </tr>\n",
       "    <tr>\n",
       "      <th>14</th>\n",
       "      <td>1.818250</td>\n",
       "      <td>2.200762</td>\n",
       "      <td>15.887273</td>\n",
       "    </tr>\n",
       "    <tr>\n",
       "      <th>15</th>\n",
       "      <td>1.834045</td>\n",
       "      <td>0.610191</td>\n",
       "      <td>12.653798</td>\n",
       "    </tr>\n",
       "    <tr>\n",
       "      <th>16</th>\n",
       "      <td>3.042422</td>\n",
       "      <td>2.475885</td>\n",
       "      <td>18.239819</td>\n",
       "    </tr>\n",
       "    <tr>\n",
       "      <th>17</th>\n",
       "      <td>5.247564</td>\n",
       "      <td>0.171943</td>\n",
       "      <td>20.777366</td>\n",
       "    </tr>\n",
       "    <tr>\n",
       "      <th>18</th>\n",
       "      <td>4.319450</td>\n",
       "      <td>4.546602</td>\n",
       "      <td>27.382818</td>\n",
       "    </tr>\n",
       "    <tr>\n",
       "      <th>19</th>\n",
       "      <td>2.912291</td>\n",
       "      <td>1.293900</td>\n",
       "      <td>17.300219</td>\n",
       "    </tr>\n",
       "    <tr>\n",
       "      <th>20</th>\n",
       "      <td>6.118529</td>\n",
       "      <td>3.312611</td>\n",
       "      <td>29.501635</td>\n",
       "    </tr>\n",
       "    <tr>\n",
       "      <th>21</th>\n",
       "      <td>1.394939</td>\n",
       "      <td>1.558555</td>\n",
       "      <td>12.116268</td>\n",
       "    </tr>\n",
       "    <tr>\n",
       "      <th>22</th>\n",
       "      <td>2.921446</td>\n",
       "      <td>2.600340</td>\n",
       "      <td>17.858685</td>\n",
       "    </tr>\n",
       "    <tr>\n",
       "      <th>23</th>\n",
       "      <td>3.663618</td>\n",
       "      <td>2.733551</td>\n",
       "      <td>20.261751</td>\n",
       "    </tr>\n",
       "    <tr>\n",
       "      <th>24</th>\n",
       "      <td>4.560700</td>\n",
       "      <td>0.924272</td>\n",
       "      <td>21.343170</td>\n",
       "    </tr>\n",
       "  </tbody>\n",
       "</table>\n",
       "</div>"
      ],
      "text/plain": [
       "          X1        X2          y\n",
       "0   3.745401  3.925880  24.826430\n",
       "1   9.507143  0.998369  35.689535\n",
       "2   7.319939  2.571172  31.986514\n",
       "3   5.986585  2.962073  28.582797\n",
       "4   1.560186  0.232252   8.666541\n",
       "5   1.559945  3.037724  15.035440\n",
       "6   0.580836  0.852621   7.987111\n",
       "7   8.661761  0.325258  32.692923\n",
       "8   6.011150  4.744428  32.865924\n",
       "9   7.080726  4.828160  34.135458\n",
       "10  0.205845  4.041987  14.025592\n",
       "11  9.699099  1.523069  36.758351\n",
       "12  8.324426  0.488361  30.273078\n",
       "13  2.123391  3.421165  18.824180\n",
       "14  1.818250  2.200762  15.887273\n",
       "15  1.834045  0.610191  12.653798\n",
       "16  3.042422  2.475885  18.239819\n",
       "17  5.247564  0.171943  20.777366\n",
       "18  4.319450  4.546602  27.382818\n",
       "19  2.912291  1.293900  17.300219\n",
       "20  6.118529  3.312611  29.501635\n",
       "21  1.394939  1.558555  12.116268\n",
       "22  2.921446  2.600340  17.858685\n",
       "23  3.663618  2.733551  20.261751\n",
       "24  4.560700  0.924272  21.343170"
      ]
     },
     "execution_count": 46,
     "metadata": {},
     "output_type": "execute_result"
    }
   ],
   "source": [
    "df = pd.read_csv('data.csv', delimiter = ',')\n",
    "df"
   ]
  },
  {
   "cell_type": "code",
   "execution_count": 47,
   "metadata": {
    "id": "VeR5w6cIP6Qi"
   },
   "outputs": [],
   "source": [
    "np.random .seed(42)\n",
    "X = np.random.rand(100, )\n",
    "X = np.c_[X, 2 * X + np.random.normal(0, 0.1, 100)]\n",
    "true_coefficients = np.array([1, 1])\n",
    "y = X @ true_coefficients + np.random.normal(0, 0.1, 100)\n",
    "\n",
    "def lasso_gradient_descent(X, y, alpha, learning_rate = 0.01, n_iterations = 1000):\n",
    "  n_samples, n_features = X.shape\n",
    "  coefficients = np.zeros(n_features)\n",
    "\n",
    "  for _ in range(n_iterations):\n",
    "    residuals = y -X @ coefficients\n",
    "    gradient = - (2) * (X.T @ residuals) * learning_rate + alpha * np.sign(coefficients)\n",
    "\n",
    "    coefficients -= learning_rate * gradient\n",
    "  return coefficients"
   ]
  },
  {
   "cell_type": "code",
   "execution_count": 48,
   "metadata": {
    "colab": {
     "base_uri": "https://localhost:8080/",
     "height": 679
    },
    "id": "ou0e88tzSYgP",
    "outputId": "d241014e-953f-44ca-c977-01e4d51584f6"
   },
   "outputs": [
    {
     "name": "stdout",
     "output_type": "stream",
     "text": [
      "Коэффициенты Lasso\n",
      "[0.20455002 1.35213115]\n"
     ]
    },
    {
     "data": {
      "text/plain": [
       "<function matplotlib.pyplot.show(close=None, block=None)>"
      ]
     },
     "execution_count": 48,
     "metadata": {},
     "output_type": "execute_result"
    },
    {
     "data": {
      "image/png": "[encoded data removed]",
      "text/plain": [
       "<Figure size 640x480 with 1 Axes>"
      ]
     },
     "metadata": {},
     "output_type": "display_data"
    }
   ],
   "source": [
    "alpha = 0.1\n",
    "coefficients = lasso_gradient_descent(X, y, alpha)\n",
    "\n",
    "print('Коэффициенты Lasso')\n",
    "print(coefficients)\n",
    "\n",
    "y_pred = X @ coefficients\n",
    "plt.scatter(y, y_pred)\n",
    "plt.xlabel(\"Истинные значения\")\n",
    "plt.ylabel('Предсказанные значения')\n",
    "plt.title('Истинные vs Предсказанные значения')\n",
    "plt.plot([y.min(), y.max()], [y.min(), y.max()], 'k--', lw = 2)\n",
    "plt.show"
   ]
  },
  {
   "cell_type": "code",
   "execution_count": 49,
   "metadata": {
    "colab": {
     "base_uri": "https://localhost:8080/",
     "height": 263
    },
    "id": "Tcf9g7s8Wgel",
    "outputId": "a3cb64d4-8674-432a-bbe8-01d2f3a82593"
   },
   "outputs": [
    {
     "name": "stdout",
     "output_type": "stream",
     "text": [
      "Mean Squared Error: 0.670647433681431\n",
      "R² Score:  0.6689050668803429\n",
      "Coefficients: [ 0.52399131 -0.82840789  0.         -0.          2.02753418  0.\n",
      " -0.         -0.         -0.          0.        ]\n"
     ]
    }
   ],
   "source": [
    "\n",
    "# Генерация случайных данных для примера\n",
    "np.random.seed(0)\n",
    "X = np.random.rand(100, 10)  # 100 образцов, 10 признаков\n",
    "y = X @ np.array([1.5, -2.0, 0.0, 0.0, 3.0, 0.0, 0.0, -1.0, 0.0, 0.0]) + np.random.normal(0, 0.5, 100)\n",
    "\n",
    "# Разделение данных на обучающую и тестовую выборки\n",
    "X_train, X_test, y_train, y_test = train_test_split(X, y, test_size=0.2, random_state=42)\n",
    "\n",
    "# Создание и обучение модели Lasso\n",
    "lasso = Lasso(alpha=0.1)  # alpha - параметр регуляризации\n",
    "lasso.fit(X_train, y_train)\n",
    "\n",
    "# Прогнозирование на тестовой выборке\n",
    "y_pred = lasso.predict(X_test)\n",
    "\n",
    "# Оценка модели\n",
    "mse = mean_squared_error(y_test, y_pred)\n",
    "r2 = r2_score(y_test, y_pred)\n",
    "\n",
    "print(\"Mean Squared Error:\", mse)\n",
    "print(\"R² Score: \", r2)\n",
    "print(\"Coefficients:\", lasso.coef_)\n"
   ]
  },
  {
   "cell_type": "markdown",
   "metadata": {
    "id": "uFWBgLWCY6Yo"
   },
   "source": [
    "Задание 2"
   ]
  },
  {
   "cell_type": "code",
   "execution_count": 50,
   "metadata": {
    "id": "mn1oD03_aL4L"
   },
   "outputs": [],
   "source": [
    "data = pd.read_csv('boston.csv')\n",
    "X = data.iloc[:, :-1].values  # Все столбцы кроме последнего — признаки\n",
    "y = data.iloc[:, -1].values   # Последний столбец — целевая переменная"
   ]
  },
  {
   "cell_type": "code",
   "execution_count": 51,
   "metadata": {
    "colab": {
     "base_uri": "https://localhost:8080/"
    },
    "id": "grLYdI_wY840",
    "outputId": "d6f9f293-8abd-4b77-8a25-3eaee9685ee2"
   },
   "outputs": [
    {
     "name": "stdout",
     "output_type": "stream",
     "text": [
      "Среднеквадратичная ошибка (MSE): 25.15559375393417\n",
      "Коэффициент детерминации (R²): 0.6569712802223937\n",
      "Коэффициенты модели Lasso: [-0.10415691  0.03489335 -0.01678527  0.91995182 -0.          4.31168655\n",
      " -0.01512583 -1.15148729  0.23923695 -0.01296223 -0.73224678  0.01309057\n",
      " -0.56467442]\n"
     ]
    }
   ],
   "source": [
    "# 2. Разделение данных на обучающую и тестовую выборки\n",
    "X_train, X_test, y_train, y_test = train_test_split(X, y, test_size=0.2, random_state=42)\n",
    "\n",
    "# 3. Создание и обучение модели Lasso-регрессии\n",
    "alpha = 0.1  # Параметр регуляризации\n",
    "lasso = Lasso(alpha=alpha)\n",
    "lasso.fit(X_train, y_train)\n",
    "\n",
    "# 4. Предсказание на тестовых данных\n",
    "y_pred = lasso.predict(X_test)\n",
    "\n",
    "# 5. Оценка модели\n",
    "mse = mean_squared_error(y_test, y_pred)\n",
    "r2 = r2_score(y_test, y_pred)\n",
    "\n",
    "# 6. Вывод результатов\n",
    "print(\"Среднеквадратичная ошибка (MSE):\", mse)\n",
    "print(\"Коэффициент детерминации (R²):\", r2)\n",
    "print(\"Коэффициенты модели Lasso:\", lasso.coef_)"
   ]
  },
  {
   "cell_type": "markdown",
   "metadata": {
    "id": "GjZH-9zNbJie"
   },
   "source": [
    "не работает ⛹"
   ]
  },
  {
   "cell_type": "code",
   "execution_count": 52,
   "metadata": {
    "colab": {
     "base_uri": "https://localhost:8080/",
     "height": 263
    },
    "id": "kCYS0y_jbMo2",
    "outputId": "9636c35b-4e3e-4191-a250-8839c6344db1"
   },
   "outputs": [
    {
     "name": "stdout",
     "output_type": "stream",
     "text": [
      "Коэффициенты модели Ridge: [ 71.14655655  81.3612116   10.41135309  35.87014338 -68.57173247\n",
      " -91.62215399   0.52656169 -72.88064444 -34.53865085   0.40422005\n",
      "  41.29140902  -0.21206662 -16.19617088]\n"
     ]
    },
    {
     "data": {
      "image/png": "[encoded data removed]",
      "text/plain": [
       "<Figure size 640x480 with 1 Axes>"
      ]
     },
     "metadata": {},
     "output_type": "display_data"
    }
   ],
   "source": [
    "y = X[:,0]**2 * true_coefficients[0] + X[:,1]**2 * true_coefficients[1] + np.random.normal(0, 0.1, X.shape[0])\n",
    "\n",
    "alpha = 7\n",
    "# Вычисление коэффициентов Ridge регрессии\n",
    "I = np.eye(X.shape[1]) # Единичная матрица\n",
    "# Не регуляризуем свободный член\n",
    "coefficients = np.linalg.inv(X.T @ X + alpha * I) @ X.T @ y\n",
    "y_pred = X @ coefficients\n",
    "# Вывод коэффициентов\n",
    "print(\"Коэффициенты модели Ridge:\", coefficients)\n",
    "# Визуализация истинных и предсказанных значений\n",
    "y_pred = X @ coefficients\n",
    "plt.scatter(y, y_pred)\n",
    "plt. xlabel(\"Истинные значения\")\n",
    "plt.ylabel(\"Предсказанные значения\")\n",
    "plt.title(\"Истинные vs Предсказанные значения\")\n",
    "plt.plot([y.min(), y.max()], [y.min(), y.max()], 'k--', lw=2)\n",
    "plt.show()"
   ]
  },
  {
   "cell_type": "markdown",
   "metadata": {
    "id": "GwX7f6FxcEtb"
   },
   "source": [
    "Задание 3"
   ]
  },
  {
   "cell_type": "code",
   "execution_count": 53,
   "metadata": {
    "colab": {
     "base_uri": "https://localhost:8080/"
    },
    "id": "k0be_r4VcF0g",
    "outputId": "4f5e13d5-d8c0-44d8-855e-f0bee9172a20"
   },
   "outputs": [
    {
     "name": "stdout",
     "output_type": "stream",
     "text": [
      "Среднеквадратичная ошибка (MSE): 24.30102550019274\n",
      "Коэффициент детерминации (R²): 0.6686244122021412\n",
      "Коэффициенты модели Ridge: [-1.12399694e-01  3.04593914e-02  3.48958400e-02  2.75033318e+00\n",
      " -1.59244585e+01  4.44577949e+00 -7.30474388e-03 -1.42960751e+00\n",
      "  2.60042840e-01 -1.07802286e-02 -9.00771040e-01  1.24004789e-02\n",
      " -5.10902332e-01]\n"
     ]
    }
   ],
   "source": [
    "\n",
    "from sklearn.linear_model import Ridge\n",
    "\n",
    "# 1. Загрузка данных\n",
    "data = pd.read_csv('boston.csv')  # Замените 'boston.csv' на путь к вашему файлу\n",
    "X = data.iloc[:, :-1].values  # Все столбцы, кроме последнего — признаки\n",
    "y = data.iloc[:, -1].values   # Последний столбец — целевая переменная\n",
    "\n",
    "# 2. Разделение данных на обучающую и тестовую выборки\n",
    "X_train, X_test, y_train, y_test = train_test_split(X, y, test_size=0.2, random_state=42)\n",
    "\n",
    "# 3. Создание и обучение модели Ridge-регрессии\n",
    "alpha = 0.1  # Параметр регуляризации\n",
    "ridge = Ridge(alpha=alpha)\n",
    "ridge.fit(X_train, y_train)\n",
    "\n",
    "# 4. Предсказание на тестовых данных\n",
    "y_pred = ridge.predict(X_test)\n",
    "\n",
    "# 5. Оценка модели\n",
    "mse = mean_squared_error(y_test, y_pred)\n",
    "r2 = r2_score(y_test, y_pred)\n",
    "\n",
    "# 6. Вывод результатов\n",
    "print(\"Среднеквадратичная ошибка (MSE):\", mse)\n",
    "print(\"Коэффициент детерминации (R²):\", r2)\n",
    "print(\"Коэффициенты модели Ridge:\", ridge.coef_)"
   ]
  },
  {
   "cell_type": "markdown",
   "metadata": {
    "id": "1c62M6ewd7OI"
   },
   "source": [
    "Итоговое задание"
   ]
  },
  {
   "cell_type": "code",
   "execution_count": 54,
   "metadata": {
    "id": "qvyoz-KDd8uY"
   },
   "outputs": [],
   "source": [
    "from sklearn.preprocessing import LabelEncoder, StandardScaler\n",
    "from sklearn.linear_model import Ridge\n",
    "\n",
    "# 1. Загрузка данных\n",
    "data = pd.read_csv('Nedvig.csv', encoding='cp1251', sep=';')  # Замените 'boston.csv' на путь к вашему файлу\n",
    "\n",
    "# Кодирование категориальных данных\n",
    "label_encoder = LabelEncoder()\n",
    "for column in data.select_dtypes(include=['object']).columns:\n",
    "    data[column] = label_encoder.fit_transform(data[column])\n",
    "\n",
    "data = data.dropna()\n",
    "\n",
    "X = data.iloc[:, :-1].values  # Все столбцы, кроме последнего — признаки\n",
    "y = data.iloc[:, -1].values   # Последний столбец — целевая переменная\n",
    "\n",
    "\n",
    "\n",
    "\n",
    "# 2. Разделение данных на обучающую и тестовую выборки\n",
    "X_train, X_test, y_train, y_test = train_test_split(X, y, test_size=0.2, random_state=42)\n"
   ]
  },
  {
   "cell_type": "code",
   "execution_count": 55,
   "metadata": {
    "colab": {
     "base_uri": "https://localhost:8080/"
    },
    "id": "2xCtVzfrinPD",
    "outputId": "ace3885b-19b4-41cd-b904-02c991f96f46"
   },
   "outputs": [
    {
     "name": "stdout",
     "output_type": "stream",
     "text": [
      "Среднеквадратичная ошибка (MSE): 352235.3207600955\n",
      "Коэффициент детерминации (R²): 0.5769053950613253\n",
      "Коэффициенты модели Lasso: [ -0.12406642  16.86677908 -33.02147272 -71.651475    95.67947066\n",
      "  21.17456005  10.18005609  31.57444414]\n"
     ]
    }
   ],
   "source": [
    "\n",
    "# 3. Создание и обучение модели Lasso-регрессии\n",
    "alpha = 0.1  # Параметр регуляризации\n",
    "lasso = Lasso(alpha=alpha)\n",
    "lasso.fit(X_train, y_train)\n",
    "\n",
    "# 4. Предсказание на тестовых данных\n",
    "y_pred = lasso.predict(X_test)\n",
    "\n",
    "# 5. Оценка модели\n",
    "mse = mean_squared_error(y_test, y_pred)\n",
    "r2 = r2_score(y_test, y_pred)\n",
    "\n",
    "# 6. Вывод результатов\n",
    "print(\"Среднеквадратичная ошибка (MSE):\", mse)\n",
    "print(\"Коэффициент детерминации (R²):\", r2)\n",
    "print(\"Коэффициенты модели Lasso:\", lasso.coef_)"
   ]
  },
  {
   "cell_type": "code",
   "execution_count": 56,
   "metadata": {
    "colab": {
     "base_uri": "https://localhost:8080/"
    },
    "id": "yqXfmVjmd-EZ",
    "outputId": "1b6392be-ec8a-4428-bb46-849c11a95214"
   },
   "outputs": [
    {
     "name": "stdout",
     "output_type": "stream",
     "text": [
      "Среднеквадратичная ошибка (MSE): 352250.55370379955\n",
      "Коэффициент детерминации (R²): 0.5768870977018083\n",
      "Коэффициенты модели Ridge: [ -0.1243762   16.9004497  -33.26774083 -71.75747342  96.27592159\n",
      "  21.17047523  10.19201832  31.58337139]\n"
     ]
    }
   ],
   "source": [
    "# 3. Создание и обучение модели Ridge-регрессии\n",
    "alpha = 0.1  # Параметр регуляризации\n",
    "ridge = Ridge(alpha=alpha)\n",
    "ridge.fit(X_train, y_train)\n",
    "\n",
    "# 4. Предсказание на тестовых данных\n",
    "y_pred = ridge.predict(X_test)\n",
    "\n",
    "# 5. Оценка модели\n",
    "mse = mean_squared_error(y_test, y_pred)\n",
    "r2 = r2_score(y_test, y_pred)\n",
    "\n",
    "# 6. Вывод результатов\n",
    "print(\"Среднеквадратичная ошибка (MSE):\", mse)\n",
    "print(\"Коэффициент детерминации (R²):\", r2)\n",
    "print(\"Коэффициенты модели Ridge:\", ridge.coef_)\n"
   ]
  }
 ],
 "metadata": {
  "colab": {
   "provenance": []
  },
  "kernelspec": {
   "display_name": ".venv",
   "language": "python",
   "name": "python3"
  },
  "language_info": {
   "codemirror_mode": {
    "name": "ipython",
    "version": 3
   },
   "file_extension": ".py",
   "mimetype": "text/x-python",
   "name": "python",
   "nbconvert_exporter": "python",
   "pygments_lexer": "ipython3",
   "version": "3.12.7"
  }
 },
 "nbformat": 4,
 "nbformat_minor": 0
}
